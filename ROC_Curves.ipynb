{
 "cells": [
  {
   "cell_type": "markdown",
   "metadata": {},
   "source": [
    "# Understanding ROC Curves"
   ]
  },
  {
   "cell_type": "markdown",
   "metadata": {},
   "source": [
    "The purpose of this notebook is to write a program demonstrating ROC curve, it should be seen in conjunction with this blog which explains theoritical aspects of ROC curve. In order to understand it better user should change the value of 'mean_difference'  and execute all cells again to see different plots."
   ]
  },
  {
   "cell_type": "code",
   "execution_count": 2,
   "metadata": {},
   "outputs": [],
   "source": [
    "#Importing libraries\n",
    "import pandas as pd\n",
    "import numpy as np\n",
    "import matplotlib.pyplot as plt\n",
    "import seaborn as sns"
   ]
  },
  {
   "cell_type": "code",
   "execution_count": 3,
   "metadata": {},
   "outputs": [],
   "source": [
    "from sklearn.metrics import accuracy_score\n",
    "from sklearn.metrics import confusion_matrix\n",
    "from sklearn.model_selection import train_test_split"
   ]
  },
  {
   "cell_type": "markdown",
   "metadata": {},
   "source": [
    "The function below randomly generates different population distributions for 2000 datapoints, mean of the 'Healthy'  distribution is around 99, to create a distribuion for 'Not Healthy' close to healthy distribution  enter 'mean_difference'  parameter close to 3-10, in the cell below this, for seperated distribution keep it between 22-40, and execute all cells"
   ]
  },
  {
   "cell_type": "code",
   "execution_count": 47,
   "metadata": {},
   "outputs": [],
   "source": [
    "mean_difference=7"
   ]
  },
  {
   "cell_type": "code",
   "execution_count": 48,
   "metadata": {},
   "outputs": [],
   "source": [
    "def generate_number(num,diff):\n",
    "    dis=np.random.randn(num,2)\n",
    "    dis=100+dis*3\n",
    "    dis[:,1]=dis[:,1]-diff\n",
    "\n",
    "\n",
    "    dt=pd.DataFrame(dis[:,0])\n",
    "    dt.rename(columns={0:'parameter'},inplace=True)\n",
    "    dt['target']=0\n",
    "\n",
    "    dt2=pd.DataFrame(dis[:,1])\n",
    "    dt2.rename(columns={0:'parameter'},inplace=True)\n",
    "    dt2['target']=1\n",
    "\n",
    "    df=pd.concat([dt,dt2],axis=0)\n",
    "    df=df.sample(frac=1)\n",
    "\n",
    "    return df\n",
    "\n",
    "\n",
    "\n"
   ]
  },
  {
   "cell_type": "code",
   "execution_count": 49,
   "metadata": {},
   "outputs": [],
   "source": [
    "data=generate_number(1000,mean_difference)"
   ]
  },
  {
   "cell_type": "code",
   "execution_count": 50,
   "metadata": {},
   "outputs": [
    {
     "data": {
      "text/html": [
       "<div>\n",
       "<style scoped>\n",
       "    .dataframe tbody tr th:only-of-type {\n",
       "        vertical-align: middle;\n",
       "    }\n",
       "\n",
       "    .dataframe tbody tr th {\n",
       "        vertical-align: top;\n",
       "    }\n",
       "\n",
       "    .dataframe thead th {\n",
       "        text-align: right;\n",
       "    }\n",
       "</style>\n",
       "<table border=\"1\" class=\"dataframe\">\n",
       "  <thead>\n",
       "    <tr style=\"text-align: right;\">\n",
       "      <th></th>\n",
       "      <th>parameter</th>\n",
       "      <th>target</th>\n",
       "    </tr>\n",
       "  </thead>\n",
       "  <tbody>\n",
       "    <tr>\n",
       "      <th>392</th>\n",
       "      <td>89.660589</td>\n",
       "      <td>1</td>\n",
       "    </tr>\n",
       "    <tr>\n",
       "      <th>391</th>\n",
       "      <td>102.585923</td>\n",
       "      <td>0</td>\n",
       "    </tr>\n",
       "    <tr>\n",
       "      <th>308</th>\n",
       "      <td>96.077352</td>\n",
       "      <td>1</td>\n",
       "    </tr>\n",
       "    <tr>\n",
       "      <th>707</th>\n",
       "      <td>100.190731</td>\n",
       "      <td>0</td>\n",
       "    </tr>\n",
       "    <tr>\n",
       "      <th>408</th>\n",
       "      <td>96.921477</td>\n",
       "      <td>0</td>\n",
       "    </tr>\n",
       "  </tbody>\n",
       "</table>\n",
       "</div>"
      ],
      "text/plain": [
       "      parameter  target\n",
       "392   89.660589       1\n",
       "391  102.585923       0\n",
       "308   96.077352       1\n",
       "707  100.190731       0\n",
       "408   96.921477       0"
      ]
     },
     "execution_count": 50,
     "metadata": {},
     "output_type": "execute_result"
    }
   ],
   "source": [
    "data.head()"
   ]
  },
  {
   "cell_type": "code",
   "execution_count": 67,
   "metadata": {},
   "outputs": [
    {
     "name": "stdout",
     "output_type": "stream",
     "text": [
      "Mean for healthy:  99.99416707252529\n",
      "Mean for people with disease:  93.0976733065586\n"
     ]
    },
    {
     "data": {
      "text/plain": [
       "Text(0,0.5,'probaility')"
      ]
     },
     "execution_count": 67,
     "metadata": {},
     "output_type": "execute_result"
    },
    {
     "data": {
      "image/png": "[encoded data removed]",
      "text/plain": [
       "<Figure size 576x360 with 1 Axes>"
      ]
     },
     "metadata": {},
     "output_type": "display_data"
    }
   ],
   "source": [
    "mean_healthy=data.loc[data.target==0].parameter.mean()\n",
    "mean_not_healthy=data.loc[data.target==1].parameter.mean()\n",
    "\n",
    "print('Mean for healthy: ',mean_healthy)\n",
    "print('Mean for people with disease: ',mean_not_healthy)\n",
    "\n",
    "plt.figure(figsize=(8,5))\n",
    "sns.set_style('darkgrid')\n",
    "sns.kdeplot(data.loc[data.target==0].parameter,label=' Healthy')\n",
    "sns.kdeplot(data.loc[data.target==1].parameter,label='Not Healthy')\n",
    "plt.xlabel('parameter')\n",
    "plt.ylabel('probaility')"
   ]
  },
  {
   "cell_type": "markdown",
   "metadata": {},
   "source": [
    "Let's import a Logistic Regression and create a model"
   ]
  },
  {
   "cell_type": "code",
   "execution_count": 52,
   "metadata": {},
   "outputs": [],
   "source": [
    "from sklearn.linear_model import LogisticRegression\n",
    "model=LogisticRegression()"
   ]
  },
  {
   "cell_type": "code",
   "execution_count": 53,
   "metadata": {},
   "outputs": [],
   "source": [
    "def split_data(disease_1000):\n",
    "    X=disease_1000.iloc[:,0].values\n",
    "    y=disease_1000.iloc[:,1].values\n",
    "\n",
    "    x_train,x_test,y_train,y_test=train_test_split(X,y)\n",
    "\n",
    "    x_train=x_train.reshape(-1,1)\n",
    "    x_test=x_test.reshape(-1,1)\n",
    "    print('Shapes')\n",
    "    print(x_train.shape,x_test.shape,y_train.shape,y_test.shape)\n",
    "    return (x_train,x_test,y_train,y_test)"
   ]
  },
  {
   "cell_type": "code",
   "execution_count": 54,
   "metadata": {},
   "outputs": [
    {
     "name": "stdout",
     "output_type": "stream",
     "text": [
      "Shapes\n",
      "(1500, 1) (500, 1) (1500,) (500,)\n"
     ]
    }
   ],
   "source": [
    "x_train,x_test,y_train,y_test=split_data(data)"
   ]
  },
  {
   "cell_type": "markdown",
   "metadata": {},
   "source": [
    "Training the data"
   ]
  },
  {
   "cell_type": "code",
   "execution_count": 55,
   "metadata": {},
   "outputs": [],
   "source": [
    "def model_fit_pred(x_train,x_test,y_train,y_test,model,prob):\n",
    "    \n",
    "    model.fit(x_train,y_train)\n",
    "    pred_prob=model.predict_proba(x_test)\n",
    "    pr_res=[]\n",
    "    for i in pred_prob[:,0]:\n",
    "        if i>prob:\n",
    "            pr_res.append(0)\n",
    "        else:\n",
    "            pr_res.append(1)\n",
    "    pred=np.array(pr_res)\n",
    "    return pred\n",
    "  "
   ]
  },
  {
   "cell_type": "code",
   "execution_count": 56,
   "metadata": {},
   "outputs": [],
   "source": [
    "def get_conf_mat(x_train,x_test,y_train,y_test,model,prob):\n",
    "    predictions= model_fit_pred(x_train,x_test,y_train,y_test,model,prob)\n",
    "    #print(accuracy_score(y_test,pred))\n",
    "    cm=confusion_matrix(predictions,y_test)\n",
    "    return cm"
   ]
  },
  {
   "cell_type": "code",
   "execution_count": 57,
   "metadata": {},
   "outputs": [],
   "source": [
    "cm=get_conf_mat(x_train,x_test,y_train,y_test,model,.5)"
   ]
  },
  {
   "cell_type": "code",
   "execution_count": 58,
   "metadata": {},
   "outputs": [
    {
     "name": "stdout",
     "output_type": "stream",
     "text": [
      "[[229  21]\n",
      " [ 25 225]]\n"
     ]
    }
   ],
   "source": [
    "print(cm)"
   ]
  },
  {
   "cell_type": "code",
   "execution_count": 59,
   "metadata": {},
   "outputs": [
    {
     "name": "stdout",
     "output_type": "stream",
     "text": [
      "TPR:  0.9015748031496063\n",
      "FPR:  0.08536585365853659\n"
     ]
    }
   ],
   "source": [
    "print('TPR: ',cm[0,0]/cm[:,0].sum())\n",
    "print('FPR: ',cm[0,1]/cm[:,1].sum())"
   ]
  },
  {
   "cell_type": "code",
   "execution_count": 60,
   "metadata": {},
   "outputs": [],
   "source": [
    "prob_dis=np.linspace(.01,.99,50)"
   ]
  },
  {
   "cell_type": "code",
   "execution_count": 61,
   "metadata": {},
   "outputs": [],
   "source": [
    "true_pos_rate=[]\n",
    "false_pos_rate=[]\n",
    "prob_list=[]\n",
    "for i in prob_dis:\n",
    "    cm=get_conf_mat(x_train,x_test,y_train,y_test,model,i)\n",
    "    true_pos_rate.append(cm[0][0]/(cm[0][0]+cm[1][0]))\n",
    "    false_pos_rate.append(cm[0][1]/(cm[0][1]+cm[1][1]))\n",
    "    prob_list.append(i)\n"
   ]
  },
  {
   "cell_type": "code",
   "execution_count": 62,
   "metadata": {},
   "outputs": [
    {
     "name": "stdout",
     "output_type": "stream",
     "text": [
      "0.01 1.0 1.0\n",
      "0.03 1.0 1.0\n",
      "0.05 1.0 1.0\n",
      "0.06999999999999999 1.0 1.0\n",
      "0.09 1.0 1.0\n",
      "0.11 1.0 1.0\n",
      "0.13 1.0 1.0\n",
      "0.15000000000000002 1.0 1.0\n",
      "0.17 0.991869918699187 1.0\n",
      "0.19 0.991869918699187 1.0\n",
      "0.21000000000000002 0.983739837398374 1.0\n",
      "0.23 0.943089430894309 1.0\n",
      "0.25 0.9105691056910569 1.0\n",
      "0.27 0.8495934959349594 1.0\n",
      "0.29000000000000004 0.7764227642276422 1.0\n",
      "0.31 0.7317073170731707 1.0\n",
      "0.33 0.6788617886178862 0.9960629921259843\n",
      "0.35000000000000003 0.6219512195121951 0.9881889763779528\n",
      "0.37 0.508130081300813 0.984251968503937\n",
      "0.39 0.4105691056910569 0.984251968503937\n",
      "0.41000000000000003 0.3617886178861789 0.9763779527559056\n",
      "0.43 0.2926829268292683 0.9645669291338582\n",
      "0.45 0.21951219512195122 0.9606299212598425\n",
      "0.47000000000000003 0.16260162601626016 0.9330708661417323\n",
      "0.49 0.12601626016260162 0.9015748031496063\n",
      "0.51 0.06910569105691057 0.889763779527559\n",
      "0.53 0.04878048780487805 0.84251968503937\n",
      "0.55 0.036585365853658534 0.7992125984251969\n",
      "0.5700000000000001 0.028455284552845527 0.7440944881889764\n",
      "0.59 0.016260162601626018 0.6850393700787402\n",
      "0.61 0.016260162601626018 0.6220472440944882\n",
      "0.63 0.012195121951219513 0.5433070866141733\n",
      "0.65 0.0040650406504065045 0.4645669291338583\n",
      "0.67 0.0040650406504065045 0.41338582677165353\n",
      "0.6900000000000001 0.0040650406504065045 0.3464566929133858\n",
      "0.7100000000000001 0.0 0.25984251968503935\n",
      "0.73 0.0 0.1889763779527559\n",
      "0.75 0.0 0.1220472440944882\n",
      "0.77 0.0 0.07480314960629922\n",
      "0.79 0.0 0.047244094488188976\n",
      "0.81 0.0 0.027559055118110236\n",
      "0.8300000000000001 0.0 0.01968503937007874\n",
      "0.85 0.0 0.015748031496062992\n",
      "0.87 0.0 0.003937007874015748\n",
      "0.89 0.0 0.0\n",
      "0.91 0.0 0.0\n",
      "0.93 0.0 0.0\n",
      "0.9500000000000001 0.0 0.0\n",
      "0.97 0.0 0.0\n",
      "0.99 0.0 0.0\n"
     ]
    }
   ],
   "source": [
    "z2=zip(prob_list,false_pos_rate,true_pos_rate)\n",
    "for a,b,c in z2:\n",
    "    print(a,b,c)"
   ]
  },
  {
   "cell_type": "markdown",
   "metadata": {},
   "source": [
    "We see the value in the center gives a balanced TPR and FPR, these are the values near threshold .5"
   ]
  },
  {
   "cell_type": "code",
   "execution_count": 63,
   "metadata": {},
   "outputs": [
    {
     "data": {
      "text/plain": [
       "Text(0,0.5,'TPR')"
      ]
     },
     "execution_count": 63,
     "metadata": {},
     "output_type": "execute_result"
    },
    {
     "data": {
      "image/png": "[encoded data removed]",
      "text/plain": [
       "<Figure size 432x288 with 1 Axes>"
      ]
     },
     "metadata": {},
     "output_type": "display_data"
    }
   ],
   "source": [
    "plt.plot(prob_list,true_pos_rate)\n",
    "plt.xlabel('threshold')\n",
    "plt.ylabel('TPR')\n"
   ]
  },
  {
   "cell_type": "code",
   "execution_count": 64,
   "metadata": {},
   "outputs": [
    {
     "data": {
      "text/plain": [
       "Text(0,0.5,'FPR')"
      ]
     },
     "execution_count": 64,
     "metadata": {},
     "output_type": "execute_result"
    },
    {
     "data": {
      "image/png": "[encoded data removed]",
      "text/plain": [
       "<Figure size 432x288 with 1 Axes>"
      ]
     },
     "metadata": {},
     "output_type": "display_data"
    }
   ],
   "source": [
    "plt.plot(prob_list,false_pos_rate)\n",
    "plt.xlabel('threshold')\n",
    "plt.ylabel('FPR')"
   ]
  },
  {
   "cell_type": "code",
   "execution_count": 65,
   "metadata": {},
   "outputs": [
    {
     "data": {
      "text/plain": [
       "Text(0,0.5,'TPR')"
      ]
     },
     "execution_count": 65,
     "metadata": {},
     "output_type": "execute_result"
    },
    {
     "data": {
      "image/png": "[encoded data removed]",
      "text/plain": [
       "<Figure size 432x288 with 1 Axes>"
      ]
     },
     "metadata": {},
     "output_type": "display_data"
    }
   ],
   "source": [
    "plt.plot(false_pos_rate,true_pos_rate)\n",
    "plt.xlabel('FPR')\n",
    "plt.ylabel('TPR')"
   ]
  },
  {
   "cell_type": "markdown",
   "metadata": {},
   "source": [
    "This is the final ROC curve"
   ]
  },
  {
   "cell_type": "code",
   "execution_count": null,
   "metadata": {},
   "outputs": [],
   "source": []
  }
 ],
 "metadata": {
  "kernelspec": {
   "display_name": "Python 3",
   "language": "python",
   "name": "python3"
  },
  "language_info": {
   "codemirror_mode": {
    "name": "ipython",
    "version": 3
   },
   "file_extension": ".py",
   "mimetype": "text/x-python",
   "name": "python",
   "nbconvert_exporter": "python",
   "pygments_lexer": "ipython3",
   "version": "3.6.5"
  }
 },
 "nbformat": 4,
 "nbformat_minor": 2
}
